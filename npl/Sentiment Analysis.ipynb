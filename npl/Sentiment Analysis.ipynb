{
 "cells": [
  {
   "cell_type": "code",
   "execution_count": 4,
   "id": "cab4d530",
   "metadata": {},
   "outputs": [],
   "source": [
    "import nltk\n",
    "from nltk.sentiment import SentimentIntensityAnalyzer\n"
   ]
  },
  {
   "cell_type": "code",
   "execution_count": 24,
   "id": "1e0798ed",
   "metadata": {},
   "outputs": [
    {
     "name": "stderr",
     "output_type": "stream",
     "text": [
      "[nltk_data] Downloading package twitter_samples to\n",
      "[nltk_data]     C:\\Users\\kenny\\AppData\\Roaming\\nltk_data...\n",
      "[nltk_data]   Unzipping corpora\\twitter_samples.zip.\n"
     ]
    },
    {
     "data": {
      "text/plain": [
       "True"
      ]
     },
     "execution_count": 24,
     "metadata": {},
     "output_type": "execute_result"
    }
   ],
   "source": [
    "#nltk.download('vader_lexicon')\n",
    "nltk.download('twitter_samples')"
   ]
  },
  {
   "cell_type": "code",
   "execution_count": 16,
   "id": "565421ea",
   "metadata": {},
   "outputs": [],
   "source": [
    "analyzer = SentimentIntensityAnalyzer()"
   ]
  },
  {
   "cell_type": "code",
   "execution_count": 17,
   "id": "0dd036be",
   "metadata": {},
   "outputs": [],
   "source": [
    "text1 = 'Hey, what a beautiful day! How amazing it is!'"
   ]
  },
  {
   "cell_type": "code",
   "execution_count": 19,
   "id": "4c4b18ff",
   "metadata": {},
   "outputs": [],
   "source": [
    "text2 = 'Good!'"
   ]
  },
  {
   "cell_type": "code",
   "execution_count": 21,
   "id": "930e6a24",
   "metadata": {},
   "outputs": [
    {
     "data": {
      "text/plain": [
       "{'neg': 0.0, 'neu': 0.42, 'pos': 0.58, 'compound': 0.8513}"
      ]
     },
     "execution_count": 21,
     "metadata": {},
     "output_type": "execute_result"
    }
   ],
   "source": [
    "analyzer.polarity_scores(text1) #if the sentence is positive or negative"
   ]
  },
  {
   "cell_type": "code",
   "execution_count": 23,
   "id": "94c6aae9",
   "metadata": {},
   "outputs": [
    {
     "name": "stdout",
     "output_type": "stream",
     "text": [
      "Positive Text\n"
     ]
    }
   ],
   "source": [
    "if analyzer.polarity_scores(text1)['compound'] > 0:\n",
    "    print('Positive Text')\n",
    "else:\n",
    "    print('Negative TExt')"
   ]
  },
  {
   "cell_type": "code",
   "execution_count": 25,
   "id": "a39f5912",
   "metadata": {},
   "outputs": [
    {
     "data": {
      "text/plain": [
       "30000"
      ]
     },
     "execution_count": 25,
     "metadata": {},
     "output_type": "execute_result"
    }
   ],
   "source": [
    "len(nltk.corpus.twitter_samples.strings())"
   ]
  },
  {
   "cell_type": "code",
   "execution_count": 26,
   "id": "36e00eda",
   "metadata": {},
   "outputs": [
    {
     "data": {
      "text/plain": [
       "'Ouucchhh one of my wisdom teeth are coming through :('"
      ]
     },
     "execution_count": 26,
     "metadata": {},
     "output_type": "execute_result"
    }
   ],
   "source": [
    "tweet1 = nltk.corpus.twitter_samples.strings()[42]\n",
    "tweet1 "
   ]
  },
  {
   "cell_type": "code",
   "execution_count": 27,
   "id": "838e8649",
   "metadata": {},
   "outputs": [
    {
     "data": {
      "text/plain": [
       "{'neg': 0.203, 'neu': 0.559, 'pos': 0.238, 'compound': 0.128}"
      ]
     },
     "execution_count": 27,
     "metadata": {},
     "output_type": "execute_result"
    }
   ],
   "source": [
    "analyzer.polarity_scores(tweet1)"
   ]
  },
  {
   "cell_type": "code",
   "execution_count": 28,
   "id": "fb973ae8",
   "metadata": {},
   "outputs": [
    {
     "data": {
      "text/plain": [
       "'My phone is so shit, it always runs out of memory :( ...2 many nudes'"
      ]
     },
     "execution_count": 28,
     "metadata": {},
     "output_type": "execute_result"
    }
   ],
   "source": [
    "tweet2 = nltk.corpus.twitter_samples.strings()[1045]\n",
    "tweet2 "
   ]
  },
  {
   "cell_type": "code",
   "execution_count": 29,
   "id": "45e634fa",
   "metadata": {},
   "outputs": [
    {
     "data": {
      "text/plain": [
       "{'neg': 0.366, 'neu': 0.634, 'pos': 0.0, 'compound': -0.8184}"
      ]
     },
     "execution_count": 29,
     "metadata": {},
     "output_type": "execute_result"
    }
   ],
   "source": [
    "analyzer.polarity_scores(tweet2)"
   ]
  },
  {
   "cell_type": "code",
   "execution_count": null,
   "id": "efdfa1cb",
   "metadata": {},
   "outputs": [],
   "source": []
  }
 ],
 "metadata": {
  "kernelspec": {
   "display_name": "Python 3 (ipykernel)",
   "language": "python",
   "name": "python3"
  },
  "language_info": {
   "codemirror_mode": {
    "name": "ipython",
    "version": 3
   },
   "file_extension": ".py",
   "mimetype": "text/x-python",
   "name": "python",
   "nbconvert_exporter": "python",
   "pygments_lexer": "ipython3",
   "version": "3.9.12"
  }
 },
 "nbformat": 4,
 "nbformat_minor": 5
}
