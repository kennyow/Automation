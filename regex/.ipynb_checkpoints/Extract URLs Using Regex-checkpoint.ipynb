{
 "cells": [
  {
   "cell_type": "markdown",
   "id": "135e171e",
   "metadata": {},
   "source": [
    "# Extract URLs Using Regex"
   ]
  },
  {
   "cell_type": "code",
   "execution_count": 8,
   "id": "b042991e",
   "metadata": {},
   "outputs": [],
   "source": [
    "import re"
   ]
  },
  {
   "cell_type": "code",
   "execution_count": 6,
   "id": "93e92c4f",
   "metadata": {},
   "outputs": [],
   "source": [
    "path = 'C:/Users/kenny/Documents/ProjetoPython/Automation/regex/'"
   ]
  },
  {
   "cell_type": "code",
   "execution_count": 10,
   "id": "6e14c069",
   "metadata": {},
   "outputs": [
    {
     "data": {
      "text/plain": [
       "'http://google.com\\nhttps://example.com\\nhttp://www.wikipedia.com\\nhttp://pythonhow.com\\nhttps://python.org'"
      ]
     },
     "execution_count": 10,
     "metadata": {},
     "output_type": "execute_result"
    }
   ],
   "source": [
    "with open(path+'urls.txt', 'r') as file:\n",
    "    content = file.read()\n",
    "    \n",
    "content"
   ]
  },
  {
   "cell_type": "code",
   "execution_count": 14,
   "id": "650c977c",
   "metadata": {},
   "outputs": [
    {
     "data": {
      "text/plain": [
       "['http://google.com',\n",
       " 'https://example.com',\n",
       " 'http://www.wikipedia.com',\n",
       " 'http://pythonhow.com']"
      ]
     },
     "execution_count": 14,
     "metadata": {},
     "output_type": "execute_result"
    }
   ],
   "source": [
    "pattern = re.compile(\"https?://(?:www)?[^ \\n]+\\.com\") #getting http or https/sometimes have www, sometimes don't/ use \"\\\" to use normal \".\" character an not re character\n",
    "matches = pattern.findall(content)\n",
    "matches"
   ]
  },
  {
   "cell_type": "code",
   "execution_count": null,
   "id": "102f7e0b",
   "metadata": {},
   "outputs": [],
   "source": []
  }
 ],
 "metadata": {
  "kernelspec": {
   "display_name": "Python 3 (ipykernel)",
   "language": "python",
   "name": "python3"
  },
  "language_info": {
   "codemirror_mode": {
    "name": "ipython",
    "version": 3
   },
   "file_extension": ".py",
   "mimetype": "text/x-python",
   "name": "python",
   "nbconvert_exporter": "python",
   "pygments_lexer": "ipython3",
   "version": "3.9.12"
  }
 },
 "nbformat": 4,
 "nbformat_minor": 5
}
