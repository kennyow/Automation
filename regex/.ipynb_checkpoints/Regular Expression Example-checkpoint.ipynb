{
 "cells": [
  {
   "cell_type": "markdown",
   "id": "47f6d869",
   "metadata": {},
   "source": [
    "## REGULAR EXPRESSIONS"
   ]
  },
  {
   "cell_type": "code",
   "execution_count": 39,
   "id": "af87e4b7",
   "metadata": {},
   "outputs": [],
   "source": [
    "#Import Regular Expressions\n",
    "import re\n",
    "from pathlib import Path"
   ]
  },
  {
   "cell_type": "code",
   "execution_count": 6,
   "id": "69b115bc",
   "metadata": {},
   "outputs": [],
   "source": [
    "filenames= ['nov-12.txt', 'november-14.txt', 'Oct-17.txt', 'Nov-22.txt']"
   ]
  },
  {
   "cell_type": "markdown",
   "id": "91da9aff",
   "metadata": {},
   "source": [
    "### 1 Case: Normal Email"
   ]
  },
  {
   "cell_type": "code",
   "execution_count": 7,
   "id": "1449740f",
   "metadata": {},
   "outputs": [],
   "source": [
    "text = 'Hi there you here example@example.com some more text here and there another@example.de'"
   ]
  },
  {
   "cell_type": "code",
   "execution_count": 8,
   "id": "fdc2ec3b",
   "metadata": {},
   "outputs": [
    {
     "name": "stdout",
     "output_type": "stream",
     "text": [
      "['example@example.com', 'another@example.de']\n"
     ]
    }
   ],
   "source": [
    "pattern = re.compile(\"[a-z]+@[a-z]+.[a-z]+\")#Any letter from A to Z ( + = more than one letter)\n",
    "matches = pattern.findall(text)\n",
    "print(matches)"
   ]
  },
  {
   "cell_type": "markdown",
   "id": "bd407394",
   "metadata": {},
   "source": [
    "### 2 Case: Email with character"
   ]
  },
  {
   "cell_type": "code",
   "execution_count": 9,
   "id": "1e8a23d7",
   "metadata": {},
   "outputs": [],
   "source": [
    "text2 = 'Hi there you here exa+mple@example.com some more text here and there another@example.de'"
   ]
  },
  {
   "cell_type": "code",
   "execution_count": 10,
   "id": "7b8ea41f",
   "metadata": {},
   "outputs": [
    {
     "name": "stdout",
     "output_type": "stream",
     "text": [
      "['exa+mple@example.com', 'another@example.de']\n"
     ]
    }
   ],
   "source": [
    "pattern = re.compile(\"[^ ]+@[a-z]+.[a-z]+\")#[^ ] Any character but not space\n",
    "matches = pattern.findall(text2)\n",
    "print(matches)"
   ]
  },
  {
   "cell_type": "markdown",
   "id": "4724e2d7",
   "metadata": {},
   "source": [
    "### Meta Characteres"
   ]
  },
  {
   "cell_type": "code",
   "execution_count": 31,
   "id": "acedb65d",
   "metadata": {},
   "outputs": [],
   "source": [
    "# .        Matches any single character\n",
    "# \\        Escapes one of the meta characters to treat it as a regular character\n",
    "# [...]    Matches a single character or a range that is contained within brackets. Order does not matter but without brackets order does matter\n",
    "# +        Matches the preeceding element one or more times\n",
    "# ?        Matches the preeceding element zero or one time\n",
    "# *        Matches the preeceding element zero or more times\n",
    "# {m,n}    Matches the preeceding element at least m and not more than n times\n",
    "# ^        Matches the beginning of a line or string\n",
    "# $        Matches the end of a line or string\n",
    "# [^...]   Matches a single character or a range that is not contained within the brackets\n",
    "# ?:...|...\"Or\" operator\n",
    "# ()       Matches an optional expression"
   ]
  },
  {
   "cell_type": "markdown",
   "id": "9c1a1680",
   "metadata": {},
   "source": [
    "####  .\t Matches any character (except newline character)\t\"he..o\"\t"
   ]
  },
  {
   "cell_type": "code",
   "execution_count": 13,
   "id": "bcde226c",
   "metadata": {},
   "outputs": [],
   "source": [
    "#Changing the dot for =\n",
    "text3 = 'Hi there you here exa+mple@example=com some more text here and there another@example.de'"
   ]
  },
  {
   "cell_type": "code",
   "execution_count": 15,
   "id": "05b1d783",
   "metadata": {},
   "outputs": [
    {
     "name": "stdout",
     "output_type": "stream",
     "text": [
      "['exa+mple@example=com', 'another@example.de']\n"
     ]
    }
   ],
   "source": [
    "pattern = re.compile(\"[^ ]+@[a-z]+.[a-z]+\")\n",
    "matches = pattern.findall(text3)\n",
    "print(matches)"
   ]
  },
  {
   "cell_type": "markdown",
   "id": "4eae0323",
   "metadata": {},
   "source": [
    "#### \\\tSignals a special sequence (can also be used to escape special characters)\t\"\\d\"\t\n"
   ]
  },
  {
   "cell_type": "code",
   "execution_count": 16,
   "id": "1142481f",
   "metadata": {},
   "outputs": [],
   "source": [
    "text4 = 'Hi there you here exa+mple@example=com some more text here and there another@example.de'"
   ]
  },
  {
   "cell_type": "code",
   "execution_count": 18,
   "id": "1d58254f",
   "metadata": {},
   "outputs": [
    {
     "name": "stdout",
     "output_type": "stream",
     "text": [
      "['another@example.de']\n"
     ]
    }
   ],
   "source": [
    "pattern = re.compile(\"[^ ]+@[a-z]+\\.[a-z]+\")\n",
    "matches = pattern.findall(text4)\n",
    "print(matches)"
   ]
  },
  {
   "cell_type": "markdown",
   "id": "2596a1fc",
   "metadata": {},
   "source": [
    "#### [...]\tA set of characters\t\"[a-m]\"  \t"
   ]
  },
  {
   "cell_type": "code",
   "execution_count": 21,
   "id": "56d2b041",
   "metadata": {},
   "outputs": [
    {
     "name": "stdout",
     "output_type": "stream",
     "text": [
      "['another@example.de']\n"
     ]
    }
   ],
   "source": [
    "# Insert 'another' into the brackets\n",
    "pattern = re.compile(\"[another]+@[a-z]+\\.[a-z]+\") #the order of another doesn't matter. it could be naother, for example\n",
    "matches = pattern.findall(text4)\n",
    "print(matches)"
   ]
  },
  {
   "cell_type": "markdown",
   "id": "f8c3675a",
   "metadata": {},
   "source": [
    "#### +\tOne or more occurrences\t\"he.+o\"\t"
   ]
  },
  {
   "cell_type": "markdown",
   "id": "218fd491",
   "metadata": {},
   "source": [
    "#### ?\tZero or one occurrence\t\"he.?o\"\t"
   ]
  },
  {
   "cell_type": "code",
   "execution_count": 22,
   "id": "130196a7",
   "metadata": {},
   "outputs": [
    {
     "name": "stdout",
     "output_type": "stream",
     "text": [
      "['r@example.de']\n"
     ]
    }
   ],
   "source": [
    "pattern = re.compile(\"[^ ]?@[a-z]+\\.[a-z]+\") #the order of another doesn't matter. it could be naother, for example\n",
    "matches = pattern.findall(text4)\n",
    "print(matches)"
   ]
  },
  {
   "cell_type": "markdown",
   "id": "bc6ad5c5",
   "metadata": {},
   "source": [
    "#### *\tZero or more occurrences\t\"he.*o\"\t"
   ]
  },
  {
   "cell_type": "code",
   "execution_count": 23,
   "id": "ec5ef21a",
   "metadata": {},
   "outputs": [],
   "source": [
    "text5 = 'Hi there you here exa+mple@example=com @blabla.com some more text here and there another@example.de'"
   ]
  },
  {
   "cell_type": "code",
   "execution_count": 24,
   "id": "15552f41",
   "metadata": {},
   "outputs": [
    {
     "name": "stdout",
     "output_type": "stream",
     "text": [
      "['@blabla.com', 'another@example.de']\n"
     ]
    }
   ],
   "source": [
    "pattern = re.compile(\"[^ ]*@[a-z]+\\.[a-z]+\") #the order of another doesn't matter. it could be naother, for example\n",
    "matches = pattern.findall(text5)\n",
    "print(matches)"
   ]
  },
  {
   "cell_type": "markdown",
   "id": "54093ad6",
   "metadata": {},
   "source": [
    "#### {}\tExactly the specified number of occurrences\t\"he.{2}o\"\t"
   ]
  },
  {
   "cell_type": "code",
   "execution_count": 27,
   "id": "8e7d609c",
   "metadata": {},
   "outputs": [
    {
     "name": "stdout",
     "output_type": "stream",
     "text": [
      "['mple@example=com', 'ther@example.de']\n"
     ]
    }
   ],
   "source": [
    "pattern = re.compile(\"[^ ]{4}@[a-z]+.[a-z]+\") #the order of another doesn't matter. it could be naother, for example\n",
    "matches = pattern.findall(text5)\n",
    "print(matches)"
   ]
  },
  {
   "cell_type": "markdown",
   "id": "6f3e51a4",
   "metadata": {},
   "source": [
    "#### |\tEither or\t\"falls|stays\"\t"
   ]
  },
  {
   "cell_type": "code",
   "execution_count": 28,
   "id": "64763c9a",
   "metadata": {},
   "outputs": [],
   "source": [
    "text6 = 'Hi there you here exa+mple@example=com @blabla.com some more text here and there another@example.de and another@example.ne'"
   ]
  },
  {
   "cell_type": "code",
   "execution_count": 30,
   "id": "9a356855",
   "metadata": {},
   "outputs": [
    {
     "name": "stdout",
     "output_type": "stream",
     "text": [
      "['e@example=com', 'r@example.ne']\n"
     ]
    }
   ],
   "source": [
    "pattern = re.compile(\"[^ ]@[^ ]+.(?:com|ne)+\") #the order of another doesn't matter. it could be naother, for example\n",
    "matches = pattern.findall(text6)\n",
    "print(matches)"
   ]
  },
  {
   "cell_type": "markdown",
   "id": "c353bedc",
   "metadata": {},
   "source": [
    "# Extract URLs Using Regex"
   ]
  },
  {
   "cell_type": "code",
   "execution_count": 32,
   "id": "811ebfe5",
   "metadata": {},
   "outputs": [],
   "source": [
    "path = 'C:/Users/kenny/Documents/ProjetoPython/Automation/regex/'"
   ]
  },
  {
   "cell_type": "code",
   "execution_count": 33,
   "id": "6b63dc8b",
   "metadata": {},
   "outputs": [
    {
     "data": {
      "text/plain": [
       "'http://google.com\\nhttps://example.com\\nhttp://www.wikipedia.com\\nhttp://pythonhow.com\\nhttps://python.org'"
      ]
     },
     "execution_count": 33,
     "metadata": {},
     "output_type": "execute_result"
    }
   ],
   "source": [
    "with open(path+'urls.txt', 'r') as file:\n",
    "    content = file.read()\n",
    "    \n",
    "content"
   ]
  },
  {
   "cell_type": "code",
   "execution_count": 34,
   "id": "86d834f7",
   "metadata": {},
   "outputs": [
    {
     "data": {
      "text/plain": [
       "['http://google.com',\n",
       " 'https://example.com',\n",
       " 'http://www.wikipedia.com',\n",
       " 'http://pythonhow.com']"
      ]
     },
     "execution_count": 34,
     "metadata": {},
     "output_type": "execute_result"
    }
   ],
   "source": [
    "pattern = re.compile(\"https?://(?:www)?[^ \\n]+\\.com\") #getting http or https/sometimes have www, sometimes don't/ use \"\\\" to use normal \".\" character an not re character\n",
    "matches = pattern.findall(content)\n",
    "matches"
   ]
  },
  {
   "cell_type": "markdown",
   "id": "ba2794e9",
   "metadata": {},
   "source": [
    "# Extract IP Adresses"
   ]
  },
  {
   "cell_type": "code",
   "execution_count": 36,
   "id": "7d642805",
   "metadata": {},
   "outputs": [
    {
     "data": {
      "text/plain": [
       "'912.131.120.111\\n912.131.134.000\\n912.131.129.129'"
      ]
     },
     "execution_count": 36,
     "metadata": {},
     "output_type": "execute_result"
    }
   ],
   "source": [
    "with open(path+'ips.txt', 'r') as file:\n",
    "    content = file.read()\n",
    "    \n",
    "content"
   ]
  },
  {
   "cell_type": "code",
   "execution_count": 38,
   "id": "dc85c198",
   "metadata": {},
   "outputs": [
    {
     "data": {
      "text/plain": [
       "['912.131.120.111', '912.131.129.129']"
      ]
     },
     "execution_count": 38,
     "metadata": {},
     "output_type": "execute_result"
    }
   ],
   "source": [
    "pattern = re.compile(\"[0-9]{3}\\.[0-9]{3}\\.12[0-9]{1}\\.[0-9]{3}\")\n",
    "matches = pattern.findall(content)\n",
    "matches"
   ]
  },
  {
   "cell_type": "markdown",
   "id": "1c204202",
   "metadata": {},
   "source": [
    "# Filter Filenames"
   ]
  },
  {
   "cell_type": "code",
   "execution_count": 41,
   "id": "57ecf565",
   "metadata": {},
   "outputs": [
    {
     "data": {
      "text/plain": [
       "['billy_Nov-13.txt',\n",
       " 'Nov-12.txt',\n",
       " 'nov-20.txt',\n",
       " 'Nov-22.txt',\n",
       " 'november-14.txt',\n",
       " 'November-24.txt',\n",
       " 'Oct-17.txt']"
      ]
     },
     "execution_count": 41,
     "metadata": {},
     "output_type": "execute_result"
    }
   ],
   "source": [
    "root_dir = Path(path+'files')\n",
    "filenames = root_dir.iterdir()\n",
    "filenames_str = [filename.name for filename in filenames]\n",
    "filenames_str"
   ]
  },
  {
   "cell_type": "code",
   "execution_count": 42,
   "id": "2c2dd1cb",
   "metadata": {},
   "outputs": [
    {
     "data": {
      "text/plain": [
       "['billy_Nov-13.txt', 'Nov-12.txt', 'nov-20.txt', 'november-14.txt']"
      ]
     },
     "execution_count": 42,
     "metadata": {},
     "output_type": "execute_result"
    }
   ],
   "source": [
    "pattern = re.compile(\"nov[a-z]*-(?:[1-9]|1[0-9]|20).txt\", re.IGNORECASE)\n",
    "matches = [filename for filename in filenames_str if pattern.findall(filename)]\n",
    "matches"
   ]
  },
  {
   "cell_type": "markdown",
   "id": "aaa8a727",
   "metadata": {},
   "source": [
    "# Exercise 1 - Find a Word in Text"
   ]
  },
  {
   "cell_type": "markdown",
   "id": "d0cbfd12",
   "metadata": {},
   "source": [
    "<!-- Write a regular expression that returns all the list items that contain the word Delhi. The list is stored in the data variable:\n",
    "\n",
    "data=[\n",
    "    \"mr Jim Cloudy, Texas, 01091231, 1 dog 1 cat, jim.cloudy@example.com\", \n",
    "    \"mrs Anna Cloudy, Delhi, 2dogs 1fish bathlover@example.com\",\n",
    "    \"Mrs. Sarah Prost, Baghdad, +4327629101, 1 hamster, 2 crocodiles\",\n",
    "    \"Ms Beta Palm Ontario 08234211 12 cats, beta@example.com\",\n",
    "    \"mr. Dog Bells texas 09234211 3 honey badgers alta_bells.example.com\",\n",
    "    \"ms. Claudia More, Gujarat, 012311, 3 dogs\",\n",
    "    \"mrs Alma Stills Delhi 01231981 1 dog\",\n",
    "    \"mr Sen Kumar Delhi 3456 ants\" -->"
   ]
  },
  {
   "cell_type": "code",
   "execution_count": 43,
   "id": "bf8aa52a",
   "metadata": {},
   "outputs": [],
   "source": [
    "# Write a regular expression that returns all the list items that contain the word Delhi. The list is stored in the data variable:\n",
    "\n",
    "# data=[\n",
    "#     \"mr Jim Cloudy, Texas, 01091231, 1 dog 1 cat, jim.cloudy@example.com\", \n",
    "#     \"mrs Anna Cloudy, Delhi, 2dogs 1fish bathlover@example.com\",\n",
    "#     \"Mrs. Sarah Prost, Baghdad, +4327629101, 1 hamster, 2 crocodiles\",\n",
    "#     \"Ms Beta Palm Ontario 08234211 12 cats, beta@example.com\",\n",
    "#     \"mr. Dog Bells texas 09234211 3 honey badgers alta_bells.example.com\",\n",
    "#     \"ms. Claudia More, Gujarat, 012311, 3 dogs\",\n",
    "#     \"mrs Alma Stills Delhi 01231981 1 dog\",\n",
    "#     \"mr Sen Kumar Delhi 3456 ants\""
   ]
  },
  {
   "cell_type": "code",
   "execution_count": 45,
   "id": "5a8d54f7",
   "metadata": {},
   "outputs": [],
   "source": [
    "data=[\n",
    "    \"mr Jim Cloudy, Texas, 01091231, 1 dog 1 cat, jim.cloudy@example.com\", \n",
    "    \"mrs Anna Cloudy, Delhi, 2dogs 1fish bathlover@example.com\",\n",
    "    \"Mrs. Sarah Prost, Baghdad, +4327629101, 1 hamster, 2 crocodiles\",\n",
    "    \"Ms Beta Palm Ontario 08234211 12 cats, beta@example.com\",\n",
    "    \"mr. Dog Bells texas 09234211 3 honey badgers alta_bells.example.com\",\n",
    "    \"ms. Claudia More, Gujarat, 012311, 3 dogs\",\n",
    "    \"mrs Alma Stills Delhi 01231981 1 dog\",\n",
    "    \"mr Sen Kumar Delhi 3456 ants\"]"
   ]
  },
  {
   "cell_type": "code",
   "execution_count": 48,
   "id": "aa333589",
   "metadata": {},
   "outputs": [
    {
     "name": "stdout",
     "output_type": "stream",
     "text": [
      "['mrs Anna Cloudy, Delhi, 2dogs 1fish bathlover@example.com', 'mrs Alma Stills Delhi 01231981 1 dog', 'mr Sen Kumar Delhi 3456 ants']\n"
     ]
    }
   ],
   "source": [
    "pattern = re.compile(\".*Delhi.*\", re.IGNORECASE)\n",
    "matches = [match for match in data if pattern.findall(match)]\n",
    "print(matches)"
   ]
  },
  {
   "cell_type": "markdown",
   "id": "b2cfe3f8",
   "metadata": {},
   "source": [
    "# Exercise 2 - Find Lines Containing a Word and an Email Address"
   ]
  },
  {
   "cell_type": "code",
   "execution_count": 49,
   "id": "997fff92",
   "metadata": {},
   "outputs": [
    {
     "name": "stdout",
     "output_type": "stream",
     "text": [
      "['mrs Anna Cloudy, Delhi, 2dogs 1fish bathlover@example.com']\n"
     ]
    }
   ],
   "source": [
    "pattern = re.compile(\".*Delhi.*[^ ]+@[^ ]+\\.[a-z]+\", re.IGNORECASE)\n",
    "matches = [match for match in data if pattern.findall(match)]\n",
    "print(matches)"
   ]
  },
  {
   "cell_type": "markdown",
   "id": "4cded98d",
   "metadata": {},
   "source": [
    "# Exercise 3 - Find Lines Containing a Word and a Phone Number"
   ]
  },
  {
   "cell_type": "code",
   "execution_count": 52,
   "id": "2cb69044",
   "metadata": {},
   "outputs": [
    {
     "name": "stdout",
     "output_type": "stream",
     "text": [
      "['mrs Alma Stills Delhi 01231981 1 dog']\n"
     ]
    }
   ],
   "source": [
    "pattern = re.compile(\".*Delhi.*[0|+][0-9]{4,50}\", re.IGNORECASE)\n",
    "matches = [match for match in data if pattern.findall(match)]\n",
    "print(matches)"
   ]
  },
  {
   "cell_type": "markdown",
   "id": "a14630f2",
   "metadata": {},
   "source": [
    "# Exercise 4 - Find Lines Containing a Phone Number and an Email Address"
   ]
  },
  {
   "cell_type": "code",
   "execution_count": 53,
   "id": "dc4c10eb",
   "metadata": {},
   "outputs": [
    {
     "name": "stdout",
     "output_type": "stream",
     "text": [
      "['mrs Anna Cloudy, Delhi, 2dogs 1fish bathlover@example.com', 'mrs Alma Stills Delhi 01231981 1 dog']\n"
     ]
    }
   ],
   "source": [
    "pattern = re.compile(\".*Delhi.*([0|+][0-9]{4,50}|[^ ]+@[^ ]+.[a-z]+)\", re.IGNORECASE)\n",
    "matches = [match for match in data if pattern.findall(match)]\n",
    "print(matches)"
   ]
  },
  {
   "cell_type": "code",
   "execution_count": null,
   "id": "1a0751ad",
   "metadata": {},
   "outputs": [],
   "source": []
  }
 ],
 "metadata": {
  "kernelspec": {
   "display_name": "Python 3 (ipykernel)",
   "language": "python",
   "name": "python3"
  },
  "language_info": {
   "codemirror_mode": {
    "name": "ipython",
    "version": 3
   },
   "file_extension": ".py",
   "mimetype": "text/x-python",
   "name": "python",
   "nbconvert_exporter": "python",
   "pygments_lexer": "ipython3",
   "version": "3.9.12"
  }
 },
 "nbformat": 4,
 "nbformat_minor": 5
}
